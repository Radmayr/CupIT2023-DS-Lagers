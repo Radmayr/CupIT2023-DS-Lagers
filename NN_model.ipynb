{
 "cells": [
  {
   "cell_type": "code",
   "execution_count": 102,
   "id": "d8db4e50",
   "metadata": {},
   "outputs": [],
   "source": [
    "import pandas as pd\n",
    "import numpy as np\n",
    "import string \n",
    "import json\n",
    "import re\n",
    "from spellchecker import SpellChecker\n",
    "from nltk.corpus import stopwords as nltk_stopwords\n",
    "import matplotlib.pyplot as plt\n",
    "from tensorflow import keras\n",
    "from tensorflow.keras.layers import Dense, Flatten, Dropout, Conv2D, MaxPooling2D\n",
    "import tensorflow as tf\n",
    "from sklearn.preprocessing import StandardScaler\n",
    "from sklearn.metrics import ndcg_score\n",
    "from sklearn.model_selection import GroupShuffleSplit\n",
    "import time"
   ]
  },
  {
   "cell_type": "markdown",
   "id": "a571e503",
   "metadata": {},
   "source": [
    "# Создание обучающей и валидационной выборки"
   ]
  },
  {
   "cell_type": "code",
   "execution_count": 103,
   "id": "e9df03aa",
   "metadata": {},
   "outputs": [],
   "source": [
    "df = pd.read_csv('dataset_train.csv', encoding='utf-8')"
   ]
  },
  {
   "cell_type": "code",
   "execution_count": 104,
   "id": "5fa67e31",
   "metadata": {
    "scrolled": true
   },
   "outputs": [
    {
     "data": {
      "text/plain": [
       "Index(['text', 'comments', 'score', 'words_num', 'mistakes_num', 'letters_num',\n",
       "       'stopwords_num', 'stopwords_percent_num', 'upper_words_num',\n",
       "       'unique_num', 'unique_percent_num', 'words_mean_len', 'punct_num',\n",
       "       'first_capital_num', 'url_num', 'cos_sim', 'toxic', 'insult', 'obscene',\n",
       "       'threat', 'identity_hate', 'positive'],\n",
       "      dtype='object')"
      ]
     },
     "execution_count": 104,
     "metadata": {},
     "output_type": "execute_result"
    }
   ],
   "source": [
    "df.columns\n"
   ]
  },
  {
   "cell_type": "code",
   "execution_count": 105,
   "id": "2d68de96",
   "metadata": {},
   "outputs": [],
   "source": [
    "def create_score(x):\n",
    "    if x in [0,1,2]:\n",
    "        return 1\n",
    "    else:\n",
    "        return 0"
   ]
  },
  {
   "cell_type": "code",
   "execution_count": 106,
   "id": "c35e1546",
   "metadata": {},
   "outputs": [],
   "source": [
    "df['score_bin'] = df['score'].apply(create_score)"
   ]
  },
  {
   "cell_type": "code",
   "execution_count": 107,
   "id": "ae855c2e",
   "metadata": {},
   "outputs": [],
   "source": [
    "# Создание групп\n",
    "group = []\n",
    "for k in range(df.shape[0]//5):\n",
    "    group += [k]*5\n",
    "df['group'] = np.array(group)"
   ]
  },
  {
   "cell_type": "code",
   "execution_count": 108,
   "id": "58aa3276",
   "metadata": {},
   "outputs": [],
   "source": [
    "df_cat = df[['group', 'score', 'score_bin', 'cos_sim', 'positive']]\n",
    "df_numerics = df[['words_num', 'mistakes_num', 'letters_num', 'stopwords_num',\n",
    "       'stopwords_percent_num', 'upper_words_num', 'unique_num',\n",
    "       'unique_percent_num', 'words_mean_len', 'punct_num',\n",
    "       'first_capital_num', 'url_num']]"
   ]
  },
  {
   "cell_type": "code",
   "execution_count": 109,
   "id": "9ed23a31",
   "metadata": {},
   "outputs": [],
   "source": [
    "numeric_scaler = StandardScaler()\n",
    "# Fit & transform train set\n",
    "df_numerics_scaled = numeric_scaler.fit_transform(df_numerics)\n",
    "df_numerics_scaled = pd.DataFrame(df_numerics_scaled, columns=df_numerics.columns, index=df_numerics.index)\n",
    "df_scaled = pd.concat([df_cat, df_numerics_scaled], axis=1)"
   ]
  },
  {
   "cell_type": "code",
   "execution_count": 110,
   "id": "25b6403f",
   "metadata": {},
   "outputs": [],
   "source": [
    "gss = GroupShuffleSplit(test_size=0.30, n_splits=1, random_state = 7).split(df_scaled, groups=df_scaled['group'])"
   ]
  },
  {
   "cell_type": "code",
   "execution_count": 111,
   "id": "c889beab",
   "metadata": {},
   "outputs": [],
   "source": [
    "X_train_inds, X_test_inds = next(gss)"
   ]
  },
  {
   "cell_type": "code",
   "execution_count": 112,
   "id": "0a2230ef",
   "metadata": {},
   "outputs": [],
   "source": [
    "df_train= df_scaled.iloc[X_train_inds]\n",
    "df_train = df_train.sample(frac=1)\n",
    "features_train = df_train.loc[:, ~df_train.columns.isin(['group', 'score', 'score_bin'])]\n",
    "target_train = df_train.loc[:, df_train.columns.isin(['score_bin'])]\n",
    "\n",
    "df_test= df_scaled.iloc[X_test_inds]\n",
    "# сохренение идентификаторов групп для предсказаний\n",
    "features_test = df_test.loc[:, ~df_test.columns.isin(['group', 'score', 'score_bin'])]\n",
    "target_test = df_test.loc[:, df_test.columns.isin(['score_bin'])]\n",
    "target_test_rank = df_test.loc[:, df_test.columns.isin(['score'])]"
   ]
  },
  {
   "cell_type": "code",
   "execution_count": null,
   "id": "2b2e9e61",
   "metadata": {},
   "outputs": [],
   "source": []
  },
  {
   "cell_type": "code",
   "execution_count": 113,
   "id": "011b6245",
   "metadata": {},
   "outputs": [
    {
     "name": "stdout",
     "output_type": "stream",
     "text": [
      "Size features_train:(308370, 14)\n",
      "Size target_train:(308370, 1)\n"
     ]
    }
   ],
   "source": [
    "print(f'Size features_train:{features_train.shape}\\nSize target_train:{target_train.shape}')"
   ]
  },
  {
   "cell_type": "markdown",
   "id": "a264670b",
   "metadata": {},
   "source": [
    "# Создание модели"
   ]
  },
  {
   "cell_type": "code",
   "execution_count": 114,
   "id": "f80b13f9",
   "metadata": {},
   "outputs": [],
   "source": [
    "Nnum1 = 128\n",
    "actfun = 'tanh'\n",
    "model_NN = keras.Sequential([\n",
    "    Dense(Nnum1, activation=actfun),\n",
    "    Dense(Nnum1/2, activation=actfun),\n",
    "    Dense(Nnum1/2, activation=actfun),\n",
    "    Dense(1, activation='sigmoid')\n",
    "])"
   ]
  },
  {
   "cell_type": "code",
   "execution_count": 115,
   "id": "ac76f6cc",
   "metadata": {},
   "outputs": [],
   "source": [
    "model_NN.compile(optimizer='adam',\n",
    "    loss='binary_crossentropy')"
   ]
  },
  {
   "cell_type": "code",
   "execution_count": 116,
   "id": "b142a6bc",
   "metadata": {},
   "outputs": [
    {
     "name": "stdout",
     "output_type": "stream",
     "text": [
      "Epoch 1/5\n",
      "617/617 [==============================] - 4s 4ms/step - loss: 0.6355 - val_loss: 0.6361\n",
      "Epoch 2/5\n",
      "617/617 [==============================] - 2s 3ms/step - loss: 0.6343 - val_loss: 0.6353\n",
      "Epoch 3/5\n",
      "617/617 [==============================] - 2s 3ms/step - loss: 0.6337 - val_loss: 0.6342\n",
      "Epoch 4/5\n",
      "617/617 [==============================] - 2s 3ms/step - loss: 0.6336 - val_loss: 0.6357\n",
      "Epoch 5/5\n",
      "617/617 [==============================] - 2s 3ms/step - loss: 0.6335 - val_loss: 0.6340\n",
      "The time of execution of above program is : 11.850647926330566\n"
     ]
    }
   ],
   "source": [
    "start = time.time()\n",
    "his = model_NN.fit(features_train, target_train, \n",
    "                batch_size=500, \n",
    "                epochs=10, \n",
    "                validation_data=(features_test, target_test))\n",
    "end = time.time()\n",
    "print(\"The time of execution of above program is :\", (end-start))\n"
   ]
  },
  {
   "cell_type": "code",
   "execution_count": 117,
   "id": "13d4400f",
   "metadata": {
    "scrolled": true
   },
   "outputs": [
    {
     "name": "stdout",
     "output_type": "stream",
     "text": [
      "4131/4131 [==============================] - 4s 1ms/step\n"
     ]
    }
   ],
   "source": [
    "res = model_NN.predict(features_test)"
   ]
  },
  {
   "cell_type": "code",
   "execution_count": 118,
   "id": "d1022b6f",
   "metadata": {},
   "outputs": [],
   "source": [
    "res = np.reshape(res, (-1, 5))"
   ]
  },
  {
   "cell_type": "code",
   "execution_count": 120,
   "id": "bebc05f0",
   "metadata": {},
   "outputs": [
    {
     "data": {
      "text/plain": [
       "array([[0, 1, 2, 3, 4],\n",
       "       [0, 1, 2, 3, 4],\n",
       "       [0, 1, 2, 3, 4],\n",
       "       ...,\n",
       "       [0, 1, 2, 3, 4],\n",
       "       [0, 1, 2, 3, 4],\n",
       "       [0, 1, 2, 3, 4]], dtype=int64)"
      ]
     },
     "execution_count": 120,
     "metadata": {},
     "output_type": "execute_result"
    }
   ],
   "source": [
    "y_true = np.reshape(np.array(target_test_rank), (-1, 5))"
   ]
  },
  {
   "cell_type": "markdown",
   "id": "79825bdd",
   "metadata": {},
   "source": [
    "# Перевести вероятности в числа (0, 1, 2, 3, 4)"
   ]
  },
  {
   "cell_type": "code",
   "execution_count": 121,
   "id": "ba974d13",
   "metadata": {},
   "outputs": [],
   "source": [
    "num = len(res)\n",
    "k = [[0]*5 for i in range(num)]\n",
    "for i in range(num):\n",
    "    for j in range(4):\n",
    "        for l in range(1, 5-j):\n",
    "            if res[i][j] < res[i][j+l]:\n",
    "                k[i][j] += 1\n",
    "            else:\n",
    "                k[i][j+l] += 1\n"
   ]
  },
  {
   "cell_type": "code",
   "execution_count": 122,
   "id": "0d4c06c2",
   "metadata": {},
   "outputs": [],
   "source": [
    "res_rank = np.array(k)"
   ]
  },
  {
   "cell_type": "code",
   "execution_count": 124,
   "id": "a322f8a8",
   "metadata": {},
   "outputs": [
    {
     "data": {
      "text/plain": [
       "0.8848911531481145"
      ]
     },
     "execution_count": 124,
     "metadata": {},
     "output_type": "execute_result"
    }
   ],
   "source": [
    "ndcg_score(y_true, res_rank)"
   ]
  },
  {
   "cell_type": "code",
   "execution_count": null,
   "id": "623541ae",
   "metadata": {},
   "outputs": [],
   "source": []
  },
  {
   "cell_type": "code",
   "execution_count": null,
   "id": "8c77add5",
   "metadata": {},
   "outputs": [],
   "source": []
  },
  {
   "cell_type": "code",
   "execution_count": null,
   "id": "a2be1217",
   "metadata": {},
   "outputs": [],
   "source": []
  },
  {
   "cell_type": "code",
   "execution_count": null,
   "id": "374a3158",
   "metadata": {},
   "outputs": [],
   "source": []
  },
  {
   "cell_type": "code",
   "execution_count": null,
   "id": "607ef959",
   "metadata": {},
   "outputs": [],
   "source": []
  },
  {
   "cell_type": "code",
   "execution_count": null,
   "id": "bea717b1",
   "metadata": {},
   "outputs": [],
   "source": []
  },
  {
   "cell_type": "code",
   "execution_count": null,
   "id": "8c3208a9",
   "metadata": {},
   "outputs": [],
   "source": []
  },
  {
   "cell_type": "code",
   "execution_count": null,
   "id": "e07a2b83",
   "metadata": {},
   "outputs": [],
   "source": []
  },
  {
   "cell_type": "code",
   "execution_count": null,
   "id": "b860c883",
   "metadata": {},
   "outputs": [],
   "source": []
  },
  {
   "cell_type": "code",
   "execution_count": null,
   "id": "38d2c6be",
   "metadata": {},
   "outputs": [],
   "source": []
  },
  {
   "cell_type": "code",
   "execution_count": null,
   "id": "ce9a06d0",
   "metadata": {},
   "outputs": [],
   "source": []
  }
 ],
 "metadata": {
  "kernelspec": {
   "display_name": "Python 3 (ipykernel)",
   "language": "python",
   "name": "python3"
  },
  "language_info": {
   "codemirror_mode": {
    "name": "ipython",
    "version": 3
   },
   "file_extension": ".py",
   "mimetype": "text/x-python",
   "name": "python",
   "nbconvert_exporter": "python",
   "pygments_lexer": "ipython3",
   "version": "3.9.12"
  }
 },
 "nbformat": 4,
 "nbformat_minor": 5
}
