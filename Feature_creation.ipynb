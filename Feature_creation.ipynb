{
 "cells": [
  {
   "cell_type": "code",
   "execution_count": 2,
   "id": "c00b0399",
   "metadata": {},
   "outputs": [
    {
     "name": "stdout",
     "output_type": "stream",
     "text": [
      "Requirement already satisfied: pyspellchecker in d:\\anaconda\\lib\\site-packages (0.7.1)\n"
     ]
    }
   ],
   "source": [
    "!pip install pyspellchecker"
   ]
  },
  {
   "cell_type": "code",
   "execution_count": 18,
   "id": "d8db4e50",
   "metadata": {},
   "outputs": [],
   "source": [
    "import pandas as pd\n",
    "import numpy as np\n",
    "import string \n",
    "import json\n",
    "import re\n",
    "from spellchecker import SpellChecker\n",
    "from nltk.corpus import stopwords as nltk_stopwords"
   ]
  },
  {
   "cell_type": "code",
   "execution_count": 19,
   "id": "2cdd7365",
   "metadata": {},
   "outputs": [
    {
     "data": {
      "text/html": [
       "<div>\n",
       "<style scoped>\n",
       "    .dataframe tbody tr th:only-of-type {\n",
       "        vertical-align: middle;\n",
       "    }\n",
       "\n",
       "    .dataframe tbody tr th {\n",
       "        vertical-align: top;\n",
       "    }\n",
       "\n",
       "    .dataframe thead th {\n",
       "        text-align: right;\n",
       "    }\n",
       "</style>\n",
       "<table border=\"1\" class=\"dataframe\">\n",
       "  <thead>\n",
       "    <tr style=\"text-align: right;\">\n",
       "      <th></th>\n",
       "      <th>text</th>\n",
       "      <th>comments</th>\n",
       "    </tr>\n",
       "  </thead>\n",
       "  <tbody>\n",
       "    <tr>\n",
       "      <th>406967</th>\n",
       "      <td>‘Rice Theory’ Explains North-South China Cultu...</td>\n",
       "      <td>{'text': 'about the same type of difference is...</td>\n",
       "    </tr>\n",
       "    <tr>\n",
       "      <th>72053</th>\n",
       "      <td>Piet is a programming language, whose programs...</td>\n",
       "      <td>{'text': 'This is really cool.  Lots of possib...</td>\n",
       "    </tr>\n",
       "    <tr>\n",
       "      <th>121893</th>\n",
       "      <td>I solved the embedded Chrome OS ad equation an...</td>\n",
       "      <td>{'text': 'From the article:&amp;#62; most people I...</td>\n",
       "    </tr>\n",
       "    <tr>\n",
       "      <th>244275</th>\n",
       "      <td>JQuery 1.8 Released</td>\n",
       "      <td>{'text': 'Hey dmethvin,You guys are doing awes...</td>\n",
       "    </tr>\n",
       "    <tr>\n",
       "      <th>64601</th>\n",
       "      <td>UCSF Endocrinologist debunks \"Calories In / Ca...</td>\n",
       "      <td>{'text': 'I saw this literally after just fini...</td>\n",
       "    </tr>\n",
       "    <tr>\n",
       "      <th>163592</th>\n",
       "      <td>CSS3 Isometric text</td>\n",
       "      <td>{'text': 'I like it how the blue text selectio...</td>\n",
       "    </tr>\n",
       "    <tr>\n",
       "      <th>377059</th>\n",
       "      <td>TrueCrypt's Plausible Deniability is Theoretic...</td>\n",
       "      <td>{'text': 'I think the author made a mistake.  ...</td>\n",
       "    </tr>\n",
       "    <tr>\n",
       "      <th>77898</th>\n",
       "      <td>Ask HN: Review my project, The Bus Ride</td>\n",
       "      <td>{'text': 'I like the idea and the design is gr...</td>\n",
       "    </tr>\n",
       "    <tr>\n",
       "      <th>310175</th>\n",
       "      <td>The future of creative work online - Welcome t...</td>\n",
       "      <td>{'text': 'The founders may want to drink their...</td>\n",
       "    </tr>\n",
       "    <tr>\n",
       "      <th>366512</th>\n",
       "      <td>Was Cantor Wrong? Are the real numbers countable?</td>\n",
       "      <td>{'text': 'In your set of positive even numbers...</td>\n",
       "    </tr>\n",
       "  </tbody>\n",
       "</table>\n",
       "</div>"
      ],
      "text/plain": [
       "                                                     text  \\\n",
       "406967  ‘Rice Theory’ Explains North-South China Cultu...   \n",
       "72053   Piet is a programming language, whose programs...   \n",
       "121893  I solved the embedded Chrome OS ad equation an...   \n",
       "244275                                JQuery 1.8 Released   \n",
       "64601   UCSF Endocrinologist debunks \"Calories In / Ca...   \n",
       "163592                                CSS3 Isometric text   \n",
       "377059  TrueCrypt's Plausible Deniability is Theoretic...   \n",
       "77898             Ask HN: Review my project, The Bus Ride   \n",
       "310175  The future of creative work online - Welcome t...   \n",
       "366512  Was Cantor Wrong? Are the real numbers countable?   \n",
       "\n",
       "                                                 comments  \n",
       "406967  {'text': 'about the same type of difference is...  \n",
       "72053   {'text': 'This is really cool.  Lots of possib...  \n",
       "121893  {'text': 'From the article:&#62; most people I...  \n",
       "244275  {'text': 'Hey dmethvin,You guys are doing awes...  \n",
       "64601   {'text': 'I saw this literally after just fini...  \n",
       "163592  {'text': 'I like it how the blue text selectio...  \n",
       "377059  {'text': 'I think the author made a mistake.  ...  \n",
       "77898   {'text': 'I like the idea and the design is gr...  \n",
       "310175  {'text': 'The founders may want to drink their...  \n",
       "366512  {'text': 'In your set of positive even numbers...  "
      ]
     },
     "execution_count": 19,
     "metadata": {},
     "output_type": "execute_result"
    }
   ],
   "source": [
    "posts = []\n",
    "for line in open(\"ranking_train.jsonl\", 'r'):\n",
    "    posts.append(json.loads(line))\n",
    "    \n",
    "all_comments = []\n",
    "for i in range(len(posts)):\n",
    "    all_comments.append(pd.DataFrame.from_dict(posts[i], orient='columns'))\n",
    "    \n",
    "df = pd.concat(all_comments, ignore_index=True)\n",
    "df.sample(10)"
   ]
  },
  {
   "cell_type": "code",
   "execution_count": 20,
   "id": "bbf55aa2",
   "metadata": {},
   "outputs": [],
   "source": [
    "# оценка комментария (целевой признак)\n",
    "df['score'] = df['comments'].map(lambda a: a['score'])\n",
    "# Достать текст из словаря\n",
    "df['comments'] = df['comments'].map(lambda a: a['text'])"
   ]
  },
  {
   "cell_type": "code",
   "execution_count": 21,
   "id": "24dc7644",
   "metadata": {},
   "outputs": [],
   "source": [
    "# количество слов в комментарии\n",
    "df['words_num'] = df['comments'].apply(lambda x: len(x.split()))"
   ]
  },
  {
   "cell_type": "code",
   "execution_count": 22,
   "id": "66ee806c",
   "metadata": {},
   "outputs": [],
   "source": [
    "def clear_cods(s):\n",
    "    s = re.sub(\"&#\\S+;\", \"\\'\", s) # убираем html кодировки символов\n",
    "    s = re.sub(r\"\\xa0\", \" \", s) # убираем html кодировки символов\n",
    "    return s"
   ]
  },
  {
   "cell_type": "code",
   "execution_count": 23,
   "id": "8812108c",
   "metadata": {},
   "outputs": [],
   "source": [
    "# количество орфографических ошибок\n",
    "def clear_text(s):\n",
    "    s = re.sub('http\\S+', '', s) # убираем ссылки\n",
    "    s = re.sub('\\S+.com', '', s) # убираем ссылки\n",
    "    s = re.sub(\"&#\\S+;\", \"\\'\", s) # убираем html кодировки символов\n",
    "    s = re.sub(r\"\\xa0\", \" \", s) # убираем html кодировки символов\n",
    "    s = re.sub(\"[^A-Za-z \\']\", \" \", s) # оставляем только слова\n",
    "    return s.split()\n",
    "\n",
    "spell = SpellChecker()\n",
    "df['mistakes_num'] = df['comments'].apply(lambda x: len(spell.unknown(clear_text(x))))"
   ]
  },
  {
   "cell_type": "code",
   "execution_count": 24,
   "id": "b06b1b9c",
   "metadata": {},
   "outputs": [],
   "source": [
    "# кол-во символов\n",
    "df['letters_num'] = df['comments'].apply(lambda x: len(clear_cods(x)))"
   ]
  },
  {
   "cell_type": "code",
   "execution_count": 25,
   "id": "2b9dbec9",
   "metadata": {},
   "outputs": [],
   "source": [
    "# кол-во стоп-слов и процент стоп-слов\n",
    "stopwords = set(nltk_stopwords.words('english'))\n",
    "df['stopwords_num'] = df['comments'].apply(lambda x: len([w for w in str(x).lower().split() if w in stopwords]))\n",
    "df['stopwords_percent_num'] = df['stopwords_num'] * 100 / df['words_num']"
   ]
  },
  {
   "cell_type": "code",
   "execution_count": 26,
   "id": "588a6e29",
   "metadata": {},
   "outputs": [],
   "source": [
    "# кол-во слов капсом\n",
    "df[\"upper_words_num\"] = df['comments'].apply(lambda x: len([w for w in str(x).split() if w.isupper()]))"
   ]
  },
  {
   "cell_type": "code",
   "execution_count": 27,
   "id": "3e43ed4d",
   "metadata": {},
   "outputs": [],
   "source": [
    "# кол-во уникальных слов и процент уникальных слов\n",
    "df['unique_num'] = df['comments'].apply(lambda x: len(set(str(x).split())))\n",
    "df['unique_percent_num'] = df['unique_num'] * 100 / df['words_num']"
   ]
  },
  {
   "cell_type": "code",
   "execution_count": 28,
   "id": "a42a1cc2",
   "metadata": {},
   "outputs": [],
   "source": [
    "# средняя длина слова в комментарии\n",
    "df[\"words_mean_len\"] = df['comments'].apply(lambda x: np.mean([len(w) for w in str(x).split()]))"
   ]
  },
  {
   "cell_type": "code",
   "execution_count": 29,
   "id": "9f089fc3",
   "metadata": {},
   "outputs": [],
   "source": [
    "# кол-во знаков препинания\n",
    "df[\"punct_num\"] = df['comments'].apply(lambda x: len([c for c in str(x) if c in string.punctuation]))"
   ]
  },
  {
   "cell_type": "code",
   "execution_count": 30,
   "id": "97812089",
   "metadata": {},
   "outputs": [],
   "source": [
    "# Кол-во слов с заглавной буквы\n",
    "df[\"first_capital_num\"] = df['comments'].apply(lambda x: len([w for w in str(x).split() if w.istitle()]))"
   ]
  },
  {
   "cell_type": "code",
   "execution_count": 31,
   "id": "3ccd5851",
   "metadata": {},
   "outputs": [],
   "source": [
    "# кол-во ссылок в комментарии\n",
    "df['url_num'] = df['comments'].apply(lambda x: len(re.findall(r'http\\S+', x)))"
   ]
  },
  {
   "cell_type": "code",
   "execution_count": null,
   "id": "a0aa6f83",
   "metadata": {},
   "outputs": [],
   "source": []
  },
  {
   "cell_type": "code",
   "execution_count": null,
   "id": "6611df18",
   "metadata": {},
   "outputs": [],
   "source": []
  },
  {
   "cell_type": "markdown",
   "id": "49a63302",
   "metadata": {},
   "source": [
    "# Добавление оценки позитивности комментария"
   ]
  },
  {
   "cell_type": "code",
   "execution_count": 32,
   "id": "de256608",
   "metadata": {},
   "outputs": [],
   "source": [
    "positive = pd.read_csv('pos_neg_features', index_col=0)"
   ]
  },
  {
   "cell_type": "code",
   "execution_count": 33,
   "id": "7395d218",
   "metadata": {},
   "outputs": [],
   "source": [
    "df['positive'] = positive['positive']"
   ]
  },
  {
   "cell_type": "markdown",
   "id": "3cbc8a41",
   "metadata": {},
   "source": [
    "# Добавление косинусного расстояния между постом и комментарием"
   ]
  },
  {
   "cell_type": "code",
   "execution_count": 34,
   "id": "0560a775",
   "metadata": {},
   "outputs": [],
   "source": [
    "cos_sim = []\n",
    "with open('cos_sim.txt', 'r') as f:\n",
    "    for i in f:\n",
    "        cos_sim.append(float(i.replace('\\n', '')))\n",
    "cos_sim = np.array(cos_sim)"
   ]
  },
  {
   "cell_type": "code",
   "execution_count": 35,
   "id": "ce43b012",
   "metadata": {},
   "outputs": [],
   "source": [
    "df['cos_sim'] = cos_sim"
   ]
  },
  {
   "cell_type": "code",
   "execution_count": 38,
   "id": "d27f2675",
   "metadata": {},
   "outputs": [
    {
     "name": "stdout",
     "output_type": "stream",
     "text": [
      "<class 'pandas.core.frame.DataFrame'>\n",
      "RangeIndex: 440535 entries, 0 to 440534\n",
      "Data columns (total 17 columns):\n",
      " #   Column                 Non-Null Count   Dtype  \n",
      "---  ------                 --------------   -----  \n",
      " 0   text                   440535 non-null  object \n",
      " 1   comments               440535 non-null  object \n",
      " 2   score                  440535 non-null  int64  \n",
      " 3   words_num              440535 non-null  int64  \n",
      " 4   mistakes_num           440535 non-null  int64  \n",
      " 5   letters_num            440535 non-null  int64  \n",
      " 6   stopwords_num          440535 non-null  int64  \n",
      " 7   stopwords_percent_num  440535 non-null  float64\n",
      " 8   upper_words_num        440535 non-null  int64  \n",
      " 9   unique_num             440535 non-null  int64  \n",
      " 10  unique_percent_num     440535 non-null  float64\n",
      " 11  words_mean_len         440535 non-null  float64\n",
      " 12  punct_num              440535 non-null  int64  \n",
      " 13  first_capital_num      440535 non-null  int64  \n",
      " 14  url_num                440535 non-null  int64  \n",
      " 15  positive               440535 non-null  float64\n",
      " 16  cos_sim                440535 non-null  float64\n",
      "dtypes: float64(5), int64(10), object(2)\n",
      "memory usage: 57.1+ MB\n"
     ]
    }
   ],
   "source": [
    "df.info()"
   ]
  },
  {
   "cell_type": "code",
   "execution_count": 39,
   "id": "1ed0a5a9",
   "metadata": {},
   "outputs": [],
   "source": [
    "df.to_csv('dataset_train.csv', index=False)"
   ]
  },
  {
   "cell_type": "code",
   "execution_count": null,
   "id": "d41c626f",
   "metadata": {},
   "outputs": [],
   "source": []
  }
 ],
 "metadata": {
  "kernelspec": {
   "display_name": "Python 3 (ipykernel)",
   "language": "python",
   "name": "python3"
  },
  "language_info": {
   "codemirror_mode": {
    "name": "ipython",
    "version": 3
   },
   "file_extension": ".py",
   "mimetype": "text/x-python",
   "name": "python",
   "nbconvert_exporter": "python",
   "pygments_lexer": "ipython3",
   "version": "3.9.12"
  }
 },
 "nbformat": 4,
 "nbformat_minor": 5
}
