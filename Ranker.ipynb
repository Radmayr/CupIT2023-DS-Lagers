{
 "cells": [
  {
   "cell_type": "code",
   "execution_count": 192,
   "id": "d8db4e50",
   "metadata": {},
   "outputs": [],
   "source": [
    "import pandas as pd\n",
    "import numpy as np\n",
    "import string \n",
    "import json\n",
    "import re\n",
    "import pickle\n",
    "import matplotlib.pyplot as plt\n",
    "from tensorflow import keras\n",
    "from tensorflow.keras.layers import Dense, Flatten, Dropout, Conv2D, MaxPooling2D\n",
    "import tensorflow as tf\n",
    "from sklearn.preprocessing import MinMaxScaler, StandardScaler\n",
    "from sklearn.metrics import ndcg_score\n",
    "import time\n",
    "import seaborn as sns\n",
    "from xgboost import XGBRanker\n",
    "from xgboost import plot_importance\n",
    "from sklearn.model_selection import GroupShuffleSplit"
   ]
  },
  {
   "cell_type": "code",
   "execution_count": 193,
   "id": "429df36f",
   "metadata": {},
   "outputs": [],
   "source": [
    "df = pd.read_csv('dataset_toxic_cos_pn.csv', encoding='utf-8')"
   ]
  },
  {
   "cell_type": "code",
   "execution_count": 194,
   "id": "eb51c131",
   "metadata": {},
   "outputs": [],
   "source": [
    "df = df.drop(['text', 'comments'], axis=1)"
   ]
  },
  {
   "cell_type": "code",
   "execution_count": 195,
   "id": "a6b7b338",
   "metadata": {},
   "outputs": [],
   "source": [
    "group = []\n",
    "for k in range(df.shape[0]//5):\n",
    "    group += [k]*5\n",
    "df['group'] = np.array(group)"
   ]
  },
  {
   "cell_type": "code",
   "execution_count": 196,
   "id": "421661bd",
   "metadata": {},
   "outputs": [],
   "source": [
    "df_cat = df[['group', 'score', 'cos_sim', 'positive']]\n",
    "df_numerics = df[['words_num', 'mistakes_num', 'letters_num', 'stopwords_num',\n",
    "       'stopwords_percent_num', 'upper_words_num', 'unique_num',\n",
    "       'unique_percent_num', 'words_mean_len', 'punct_num',\n",
    "       'first_capital_num', 'url_num']]"
   ]
  },
  {
   "cell_type": "code",
   "execution_count": 197,
   "id": "218ca913",
   "metadata": {},
   "outputs": [],
   "source": [
    "numeric_scaler = StandardScaler()\n",
    "# Fit & transform train set\n",
    "df_numerics_scaled = numeric_scaler.fit_transform(df_numerics)\n",
    "df_numerics_scaled = pd.DataFrame(df_numerics_scaled, columns=df_numerics.columns, index=df_numerics.index)"
   ]
  },
  {
   "cell_type": "code",
   "execution_count": 198,
   "id": "c54cfa2b",
   "metadata": {},
   "outputs": [],
   "source": [
    "df_scaled = pd.concat([df_cat, df_numerics_scaled], axis=1)"
   ]
  },
  {
   "cell_type": "code",
   "execution_count": 199,
   "id": "472397a3",
   "metadata": {},
   "outputs": [],
   "source": [
    "gss = GroupShuffleSplit(test_size=0.30, n_splits=1, random_state = 7).split(df_scaled, groups=df_scaled['group'])"
   ]
  },
  {
   "cell_type": "code",
   "execution_count": 200,
   "id": "f9cb6ca2",
   "metadata": {},
   "outputs": [],
   "source": [
    "X_train_inds, X_test_inds = next(gss)"
   ]
  },
  {
   "cell_type": "code",
   "execution_count": 201,
   "id": "db38f2d3",
   "metadata": {},
   "outputs": [],
   "source": [
    "df_train= df_scaled.iloc[X_train_inds]\n",
    "features_train = df_train.loc[:, ~df_train.columns.isin(['group','score'])]\n",
    "target_train = df_train.loc[:, df_train.columns.isin(['score'])]\n",
    "\n",
    "df_test= df_scaled.iloc[X_test_inds]\n",
    "# сохренение идентификаторов групп для предсказаний\n",
    "features_test = df_test.loc[:, ~df_test.columns.isin(['score'])]\n",
    "target_test = df_test.loc[:, df_test.columns.isin(['score'])]"
   ]
  },
  {
   "cell_type": "code",
   "execution_count": 202,
   "id": "72bbb6bf",
   "metadata": {},
   "outputs": [],
   "source": [
    "groups = df_train.groupby('group').size().to_frame('size')['size'].to_numpy()"
   ]
  },
  {
   "cell_type": "code",
   "execution_count": 203,
   "id": "de67d508",
   "metadata": {},
   "outputs": [],
   "source": [
    "model_ranker = XGBRanker(objective='rank:ndcg', \n",
    "                  n_estimators=150,\n",
    "                  learning_rate=0.1,\n",
    "                  importance_type='weight', \n",
    "                  random_state=42)\n",
    "             "
   ]
  },
  {
   "cell_type": "code",
   "execution_count": 204,
   "id": "0a811b20",
   "metadata": {},
   "outputs": [
    {
     "name": "stdout",
     "output_type": "stream",
     "text": [
      "Size features_train:(308370, 14)\n",
      "Size target_train:(308370, 1)\n"
     ]
    }
   ],
   "source": [
    "print(f'Size features_train:{features_train.shape}\\nSize target_train:{target_train.shape}')"
   ]
  },
  {
   "cell_type": "code",
   "execution_count": 205,
   "id": "3e4a34f6",
   "metadata": {},
   "outputs": [
    {
     "name": "stdout",
     "output_type": "stream",
     "text": [
      "The time of execution of above program is : 17.668813467025757\n"
     ]
    }
   ],
   "source": [
    "start = time.time()\n",
    "model_ranker.fit(features_train, target_train, group=groups, verbose=True)\n",
    "end = time.time()\n",
    "print(\"The time of execution of above program is :\", (end-start))"
   ]
  },
  {
   "cell_type": "code",
   "execution_count": 206,
   "id": "c69066fa",
   "metadata": {},
   "outputs": [],
   "source": [
    "feature = np.reshape(np.array(features_train.columns), (features_train.shape[1], -1))\n",
    "importance = np.reshape(model_ranker.feature_importances_, (features_train.shape[1], -1))*100\n",
    "feature_importance = np.concatenate((feature, importance), axis=1)"
   ]
  },
  {
   "cell_type": "code",
   "execution_count": 207,
   "id": "b18fd889",
   "metadata": {},
   "outputs": [],
   "source": [
    "importance = pd.DataFrame(feature_importance, columns=['feature', 'importance']).sort_values('importance', ascending=False)"
   ]
  },
  {
   "cell_type": "code",
   "execution_count": null,
   "id": "ba8788a4",
   "metadata": {},
   "outputs": [],
   "source": []
  },
  {
   "cell_type": "code",
   "execution_count": 208,
   "id": "0744ce90",
   "metadata": {},
   "outputs": [],
   "source": [
    "def predict(model, df):\n",
    "    return model.predict(df.loc[:, ~df.columns.isin(['group'])])\n",
    "  "
   ]
  },
  {
   "cell_type": "code",
   "execution_count": 209,
   "id": "100e8135",
   "metadata": {},
   "outputs": [
    {
     "name": "stdout",
     "output_type": "stream",
     "text": [
      "The time of execution of above program is : 81.96629738807678\n"
     ]
    }
   ],
   "source": [
    "start = time.time()\n",
    "predictions = (features_test.groupby('group')\n",
    "               .apply(lambda x: predict(model_ranker, x)))\n",
    "end = time.time()\n",
    "print(\"The time of execution of above program is :\", (end-start))"
   ]
  },
  {
   "cell_type": "code",
   "execution_count": 210,
   "id": "3cd43f6a",
   "metadata": {},
   "outputs": [],
   "source": [
    "res = np.array(predictions)"
   ]
  },
  {
   "cell_type": "code",
   "execution_count": 211,
   "id": "7d07b405",
   "metadata": {},
   "outputs": [],
   "source": [
    "num = len(res)\n",
    "k = [[0]*5 for i in range(num)]\n",
    "for i in range(num):\n",
    "    for j in range(4):\n",
    "        for l in range(1, 5-j):\n",
    "            if res[i][j] > res[i][j+l]:\n",
    "                k[i][j] += 1\n",
    "            else:\n",
    "                k[i][j+l] += 1"
   ]
  },
  {
   "cell_type": "code",
   "execution_count": 212,
   "id": "ffac0b1c",
   "metadata": {},
   "outputs": [],
   "source": [
    "y_res = np.array(k)"
   ]
  },
  {
   "cell_type": "code",
   "execution_count": 213,
   "id": "ce9d1f1f",
   "metadata": {},
   "outputs": [],
   "source": [
    "y = np.reshape(np.array(target_test), (-1, 5))"
   ]
  },
  {
   "cell_type": "code",
   "execution_count": 214,
   "id": "171cfe57",
   "metadata": {},
   "outputs": [
    {
     "data": {
      "text/plain": [
       "array([[0, 1, 2, 3, 4],\n",
       "       [0, 1, 2, 3, 4],\n",
       "       [0, 1, 2, 3, 4],\n",
       "       ...,\n",
       "       [0, 1, 2, 3, 4],\n",
       "       [0, 1, 2, 3, 4],\n",
       "       [0, 1, 2, 3, 4]], dtype=int64)"
      ]
     },
     "execution_count": 214,
     "metadata": {},
     "output_type": "execute_result"
    }
   ],
   "source": [
    "y"
   ]
  },
  {
   "cell_type": "code",
   "execution_count": 215,
   "id": "f5fb9bb5",
   "metadata": {},
   "outputs": [
    {
     "data": {
      "text/plain": [
       "0.8855334694966525"
      ]
     },
     "execution_count": 215,
     "metadata": {},
     "output_type": "execute_result"
    }
   ],
   "source": [
    "from sklearn.metrics import ndcg_score\n",
    "ndcg_score(y, y_res)"
   ]
  },
  {
   "cell_type": "code",
   "execution_count": null,
   "id": "548069d5",
   "metadata": {},
   "outputs": [],
   "source": []
  },
  {
   "cell_type": "code",
   "execution_count": null,
   "id": "e2a3e0bf",
   "metadata": {},
   "outputs": [],
   "source": []
  },
  {
   "cell_type": "code",
   "execution_count": null,
   "id": "082ca4a8",
   "metadata": {},
   "outputs": [],
   "source": []
  }
 ],
 "metadata": {
  "kernelspec": {
   "display_name": "Python 3 (ipykernel)",
   "language": "python",
   "name": "python3"
  },
  "language_info": {
   "codemirror_mode": {
    "name": "ipython",
    "version": 3
   },
   "file_extension": ".py",
   "mimetype": "text/x-python",
   "name": "python",
   "nbconvert_exporter": "python",
   "pygments_lexer": "ipython3",
   "version": "3.9.12"
  }
 },
 "nbformat": 4,
 "nbformat_minor": 5
}
