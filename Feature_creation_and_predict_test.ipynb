{
 "cells": [
  {
   "cell_type": "code",
   "execution_count": 205,
   "id": "d8db4e50",
   "metadata": {},
   "outputs": [],
   "source": [
    "import pandas as pd\n",
    "import numpy as np\n",
    "import string \n",
    "import json\n",
    "import pickle\n",
    "import re\n",
    "from spellchecker import SpellChecker\n",
    "from nltk.corpus import stopwords as nltk_stopwords"
   ]
  },
  {
   "cell_type": "code",
   "execution_count": 206,
   "id": "2cdd7365",
   "metadata": {},
   "outputs": [
    {
     "data": {
      "text/html": [
       "<div>\n",
       "<style scoped>\n",
       "    .dataframe tbody tr th:only-of-type {\n",
       "        vertical-align: middle;\n",
       "    }\n",
       "\n",
       "    .dataframe tbody tr th {\n",
       "        vertical-align: top;\n",
       "    }\n",
       "\n",
       "    .dataframe thead th {\n",
       "        text-align: right;\n",
       "    }\n",
       "</style>\n",
       "<table border=\"1\" class=\"dataframe\">\n",
       "  <thead>\n",
       "    <tr style=\"text-align: right;\">\n",
       "      <th></th>\n",
       "      <th>text</th>\n",
       "      <th>comments</th>\n",
       "    </tr>\n",
       "  </thead>\n",
       "  <tbody>\n",
       "    <tr>\n",
       "      <th>47951</th>\n",
       "      <td>Reference cycle bug in Rust's scoped threads</td>\n",
       "      <td>{'text': 'Why is this such a big thing? There ...</td>\n",
       "    </tr>\n",
       "    <tr>\n",
       "      <th>24391</th>\n",
       "      <td>The Growth of Administrative Staff in Universi...</td>\n",
       "      <td>{'text': 'As a former tenured professor I thou...</td>\n",
       "    </tr>\n",
       "    <tr>\n",
       "      <th>27818</th>\n",
       "      <td>I track my boyfriend's movements because I wan...</td>\n",
       "      <td>{'text': 'This reads like something out of The...</td>\n",
       "    </tr>\n",
       "    <tr>\n",
       "      <th>14212</th>\n",
       "      <td>On Linux, 'less' can probably get you owned</td>\n",
       "      <td>{'text': 'This research lcamtuf has been doing...</td>\n",
       "    </tr>\n",
       "    <tr>\n",
       "      <th>5956</th>\n",
       "      <td>Go home Twitter, you're drunk</td>\n",
       "      <td>{'text': 'Sorry but could someone please expla...</td>\n",
       "    </tr>\n",
       "    <tr>\n",
       "      <th>39825</th>\n",
       "      <td>Google is working on a new VPN service for use...</td>\n",
       "      <td>{'text': 'There may be some good here.My vpn i...</td>\n",
       "    </tr>\n",
       "    <tr>\n",
       "      <th>6146</th>\n",
       "      <td>Stripe – Apple Pay</td>\n",
       "      <td>{'text': 'So, what is the fallback for users o...</td>\n",
       "    </tr>\n",
       "    <tr>\n",
       "      <th>35292</th>\n",
       "      <td>Show HN: Add “Magic” to Your Business</td>\n",
       "      <td>{'text': 'I think this completely misses the p...</td>\n",
       "    </tr>\n",
       "    <tr>\n",
       "      <th>61060</th>\n",
       "      <td>On undoing, fixing, or removing commits in git</td>\n",
       "      <td>{'text': 'I discovered this link a few weeks a...</td>\n",
       "    </tr>\n",
       "    <tr>\n",
       "      <th>19121</th>\n",
       "      <td>Ask HN: Which are the remote-friendly places t...</td>\n",
       "      <td>{'text': 'https:&amp;#x2F;&amp;#x2F;weworkremotely.com...</td>\n",
       "    </tr>\n",
       "  </tbody>\n",
       "</table>\n",
       "</div>"
      ],
      "text/plain": [
       "                                                    text  \\\n",
       "47951       Reference cycle bug in Rust's scoped threads   \n",
       "24391  The Growth of Administrative Staff in Universi...   \n",
       "27818  I track my boyfriend's movements because I wan...   \n",
       "14212        On Linux, 'less' can probably get you owned   \n",
       "5956                       Go home Twitter, you're drunk   \n",
       "39825  Google is working on a new VPN service for use...   \n",
       "6146                                  Stripe – Apple Pay   \n",
       "35292              Show HN: Add “Magic” to Your Business   \n",
       "61060     On undoing, fixing, or removing commits in git   \n",
       "19121  Ask HN: Which are the remote-friendly places t...   \n",
       "\n",
       "                                                comments  \n",
       "47951  {'text': 'Why is this such a big thing? There ...  \n",
       "24391  {'text': 'As a former tenured professor I thou...  \n",
       "27818  {'text': 'This reads like something out of The...  \n",
       "14212  {'text': 'This research lcamtuf has been doing...  \n",
       "5956   {'text': 'Sorry but could someone please expla...  \n",
       "39825  {'text': 'There may be some good here.My vpn i...  \n",
       "6146   {'text': 'So, what is the fallback for users o...  \n",
       "35292  {'text': 'I think this completely misses the p...  \n",
       "61060  {'text': 'I discovered this link a few weeks a...  \n",
       "19121  {'text': 'https:&#x2F;&#x2F;weworkremotely.com...  "
      ]
     },
     "execution_count": 206,
     "metadata": {},
     "output_type": "execute_result"
    }
   ],
   "source": [
    "posts = []\n",
    "for line in open(\"ranking_test.jsonl\", 'r'):\n",
    "    posts.append(json.loads(line))\n",
    "    \n",
    "all_comments = []\n",
    "for i in range(len(posts)):\n",
    "    all_comments.append(pd.DataFrame.from_dict(posts[i], orient='columns'))\n",
    "    \n",
    "df = pd.concat(all_comments, ignore_index=True)\n",
    "df.sample(10)"
   ]
  },
  {
   "cell_type": "code",
   "execution_count": 207,
   "id": "bbf55aa2",
   "metadata": {},
   "outputs": [],
   "source": [
    "# оценка комментария (целевой признак)\n",
    "df['score'] = df['comments'].map(lambda a: a['score'])\n",
    "# Достать текст из словаря\n",
    "df['comments'] = df['comments'].map(lambda a: a['text'])"
   ]
  },
  {
   "cell_type": "code",
   "execution_count": 208,
   "id": "24dc7644",
   "metadata": {},
   "outputs": [],
   "source": [
    "# количество слов в комментарии\n",
    "df['words_num'] = df['comments'].apply(lambda x: len(x.split()))"
   ]
  },
  {
   "cell_type": "code",
   "execution_count": 209,
   "id": "66ee806c",
   "metadata": {},
   "outputs": [],
   "source": [
    "def clear_cods(s):\n",
    "    s = re.sub(\"&#\\S+;\", \"\\'\", s) # убираем html кодировки символов\n",
    "    s = re.sub(r\"\\xa0\", \" \", s) # убираем html кодировки символов\n",
    "    return s"
   ]
  },
  {
   "cell_type": "code",
   "execution_count": 210,
   "id": "8812108c",
   "metadata": {},
   "outputs": [],
   "source": [
    "# количество орфографических ошибок\n",
    "def clear_text(s):\n",
    "    s = re.sub('http\\S+', '', s) # убираем ссылки\n",
    "    s = re.sub('\\S+.com', '', s) # убираем ссылки\n",
    "    s = re.sub(\"&#\\S+;\", \"\\'\", s) # убираем html кодировки символов\n",
    "    s = re.sub(r\"\\xa0\", \" \", s) # убираем html кодировки символов\n",
    "    s = re.sub(\"[^A-Za-z \\']\", \" \", s) # оставляем только слова\n",
    "    return s.split()\n",
    "\n",
    "spell = SpellChecker()\n",
    "df['mistakes_num'] = df['comments'].apply(lambda x: len(spell.unknown(clear_text(x))))"
   ]
  },
  {
   "cell_type": "code",
   "execution_count": 211,
   "id": "b06b1b9c",
   "metadata": {},
   "outputs": [],
   "source": [
    "# кол-во символов\n",
    "df['letters_num'] = df['comments'].apply(lambda x: len(clear_cods(x)))"
   ]
  },
  {
   "cell_type": "code",
   "execution_count": 212,
   "id": "2b9dbec9",
   "metadata": {},
   "outputs": [],
   "source": [
    "# кол-во стоп-слов и процент стоп-слов\n",
    "stopwords = set(nltk_stopwords.words('english'))\n",
    "df['stopwords_num'] = df['comments'].apply(lambda x: len([w for w in str(x).lower().split() if w in stopwords]))\n",
    "df['stopwords_percent_num'] = df['stopwords_num'] * 100 / df['words_num']"
   ]
  },
  {
   "cell_type": "code",
   "execution_count": 213,
   "id": "588a6e29",
   "metadata": {},
   "outputs": [],
   "source": [
    "# кол-во слов капсом\n",
    "df[\"upper_words_num\"] = df['comments'].apply(lambda x: len([w for w in str(x).split() if w.isupper()]))"
   ]
  },
  {
   "cell_type": "code",
   "execution_count": 214,
   "id": "3e43ed4d",
   "metadata": {},
   "outputs": [],
   "source": [
    "# кол-во уникальных слов и процент уникальных слов\n",
    "df['unique_num'] = df['comments'].apply(lambda x: len(set(str(x).split())))\n",
    "df['unique_percent_num'] = df['unique_num'] * 100 / df['words_num']"
   ]
  },
  {
   "cell_type": "code",
   "execution_count": 215,
   "id": "a42a1cc2",
   "metadata": {},
   "outputs": [],
   "source": [
    "# средняя длина слова в комментарии\n",
    "df[\"words_mean_len\"] = df['comments'].apply(lambda x: np.mean([len(w) for w in str(x).split()]))"
   ]
  },
  {
   "cell_type": "code",
   "execution_count": 216,
   "id": "9f089fc3",
   "metadata": {},
   "outputs": [],
   "source": [
    "# кол-во знаков препинания\n",
    "df[\"punct_num\"] = df['comments'].apply(lambda x: len([c for c in str(x) if c in string.punctuation]))"
   ]
  },
  {
   "cell_type": "code",
   "execution_count": 217,
   "id": "97812089",
   "metadata": {},
   "outputs": [],
   "source": [
    "# Кол-во слов с заглавной буквы\n",
    "df[\"first_capital_num\"] = df['comments'].apply(lambda x: len([w for w in str(x).split() if w.istitle()]))"
   ]
  },
  {
   "cell_type": "code",
   "execution_count": 218,
   "id": "3ccd5851",
   "metadata": {},
   "outputs": [],
   "source": [
    "# кол-во ссылок в комментарии\n",
    "df['url_num'] = df['comments'].apply(lambda x: len(re.findall(r'http\\S+', x)))"
   ]
  },
  {
   "cell_type": "code",
   "execution_count": 219,
   "id": "f91f8421",
   "metadata": {},
   "outputs": [],
   "source": [
    "df = df.drop(['text', 'comments'], axis=1)"
   ]
  },
  {
   "cell_type": "markdown",
   "id": "847aa919",
   "metadata": {},
   "source": [
    "# Добавление оценки позитивности комментария"
   ]
  },
  {
   "cell_type": "code",
   "execution_count": 220,
   "id": "63cbf5a8",
   "metadata": {},
   "outputs": [],
   "source": [
    "positive = pd.read_csv('pos_neg_test_features', index_col=0)"
   ]
  },
  {
   "cell_type": "code",
   "execution_count": 221,
   "id": "c19364d4",
   "metadata": {},
   "outputs": [],
   "source": [
    "df['positive'] = positive['positive']"
   ]
  },
  {
   "cell_type": "markdown",
   "id": "3cbc8a41",
   "metadata": {},
   "source": [
    "# Добавление косинусного расстояния между постом и комментарием"
   ]
  },
  {
   "cell_type": "code",
   "execution_count": 222,
   "id": "0560a775",
   "metadata": {},
   "outputs": [],
   "source": [
    "cos_sim = []\n",
    "with open('cos_sim_test.txt', 'r') as f:\n",
    "    for i in f:\n",
    "        cos_sim.append(float(i.replace('\\n', '')))\n",
    "cos_sim = np.array(cos_sim)"
   ]
  },
  {
   "cell_type": "code",
   "execution_count": 223,
   "id": "ce43b012",
   "metadata": {},
   "outputs": [],
   "source": [
    "df['cos_sim'] = cos_sim"
   ]
  },
  {
   "cell_type": "markdown",
   "id": "ab6b9841",
   "metadata": {},
   "source": [
    "* text - текст поста\n",
    "* comments - текст комментария\n",
    "* score - рейтинг комментария (0 - самый популярный, 4 - самый не популярный)\n",
    "* words_num - количество слов в комментарии\n",
    "* mistakes_num - количество орфографических ошибок в комментарии\n",
    "* letters_num - количество символов в комментарии\n",
    "* stopwords_num - количество стоп-слов в комментарии\n",
    "* stopwords_percent_num - процент стоп-слов в комментарии\n",
    "* upper_words_num - количество слов, написанных капсом\n",
    "* unique_num - количество уникальных слов\n",
    "* unique_percent_num - процент уникальных слов в комментарии\n",
    "* words_mean_len - средняя длина слов в комментарии\n",
    "* punct_num - количество пунктуационных знаков\n",
    "* first_capital_num - количество слов с заглавной буквы\n",
    "* url_num - количество ссылок в комментарии"
   ]
  },
  {
   "cell_type": "markdown",
   "id": "1c92355d",
   "metadata": {},
   "source": [
    "# Обработка текста"
   ]
  },
  {
   "cell_type": "code",
   "execution_count": 224,
   "id": "1ed0a5a9",
   "metadata": {},
   "outputs": [],
   "source": [
    "with open('CatBoost.pkl', 'rb') as f:\n",
    "    CatBoost = pickle.load(f)"
   ]
  },
  {
   "cell_type": "code",
   "execution_count": 225,
   "id": "2bf842ff",
   "metadata": {},
   "outputs": [],
   "source": [
    "df_test = df.drop('score', axis=1)"
   ]
  },
  {
   "cell_type": "code",
   "execution_count": 226,
   "id": "7a5bac95",
   "metadata": {},
   "outputs": [],
   "source": [
    "predictions = CatBoost.predict_proba(df_test)[:, 1]"
   ]
  },
  {
   "cell_type": "markdown",
   "id": "9d898116",
   "metadata": {},
   "source": [
    "# Перевести вероятности в числа (0, 1, 2, 3, 4)"
   ]
  },
  {
   "cell_type": "code",
   "execution_count": 229,
   "id": "4176b4a9",
   "metadata": {},
   "outputs": [],
   "source": [
    "probabilities = np.reshape(predictions, (-1, 5))"
   ]
  },
  {
   "cell_type": "code",
   "execution_count": 230,
   "id": "0ecc7c41",
   "metadata": {},
   "outputs": [],
   "source": [
    "num = len(probabilities)\n",
    "k = [[0]*5 for i in range(num)]\n",
    "for i in range(num):\n",
    "    for j in range(4):\n",
    "        for l in range(1, 5-j):\n",
    "            if probabilities[i][j] < probabilities[i][j+l]:\n",
    "                k[i][j] += 1\n",
    "            else:\n",
    "                k[i][j+l] += 1"
   ]
  },
  {
   "cell_type": "code",
   "execution_count": 231,
   "id": "1db890a6",
   "metadata": {},
   "outputs": [],
   "source": [
    "predicted_rank = np.array(k)"
   ]
  },
  {
   "cell_type": "code",
   "execution_count": 232,
   "id": "a8d4365a",
   "metadata": {},
   "outputs": [],
   "source": [
    "predicted_rank_vector = np.reshape(predicted_rank, -1)"
   ]
  },
  {
   "cell_type": "markdown",
   "id": "a75138a4",
   "metadata": {},
   "source": [
    "# Выгрузка результата"
   ]
  },
  {
   "cell_type": "code",
   "execution_count": 233,
   "id": "8d91c55e",
   "metadata": {},
   "outputs": [],
   "source": [
    "posts = []\n",
    "for line in open(\"ranking_test.jsonl\", 'r'):\n",
    "    posts.append(json.loads(line))"
   ]
  },
  {
   "cell_type": "code",
   "execution_count": 234,
   "id": "a672af52",
   "metadata": {},
   "outputs": [],
   "source": [
    "num_posts = len(posts)"
   ]
  },
  {
   "cell_type": "code",
   "execution_count": 235,
   "id": "d2a00f0c",
   "metadata": {},
   "outputs": [],
   "source": [
    "for i in range(num_posts):\n",
    "    for j in range(5):\n",
    "        posts[i]['comments'][j]['score'] = int(predicted_rank[i][j])"
   ]
  },
  {
   "cell_type": "code",
   "execution_count": 236,
   "id": "35d2c8c4",
   "metadata": {},
   "outputs": [],
   "source": [
    "with open(\"ranking_test_answers.jsonl\", 'w') as f:\n",
    "    for item in posts:\n",
    "        f.write(json.dumps(item) + \"\\n\")"
   ]
  },
  {
   "cell_type": "code",
   "execution_count": 237,
   "id": "2df5d812",
   "metadata": {},
   "outputs": [],
   "source": [
    "# Сохранение в формате txt только ответы\n",
    "with open('ranking_test_answers.txt', 'w') as outfile:\n",
    "    for i in predicted_rank_vector:\n",
    "        outfile.write(str(i) + '\\n')"
   ]
  },
  {
   "cell_type": "code",
   "execution_count": null,
   "id": "3ea09586",
   "metadata": {},
   "outputs": [],
   "source": []
  }
 ],
 "metadata": {
  "kernelspec": {
   "display_name": "Python 3 (ipykernel)",
   "language": "python",
   "name": "python3"
  },
  "language_info": {
   "codemirror_mode": {
    "name": "ipython",
    "version": 3
   },
   "file_extension": ".py",
   "mimetype": "text/x-python",
   "name": "python",
   "nbconvert_exporter": "python",
   "pygments_lexer": "ipython3",
   "version": "3.9.12"
  }
 },
 "nbformat": 4,
 "nbformat_minor": 5
}
